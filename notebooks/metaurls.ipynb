{
 "cells": [
  {
   "cell_type": "code",
   "execution_count": 5,
   "metadata": {},
   "outputs": [
    {
     "name": "stdout",
     "output_type": "stream",
     "text": [
      "Error processing URL https://www.sevendays.nl/: HTTPSConnectionPool(host='www.sevendays.nl', port=443): Max retries exceeded with url: / (Caused by NameResolutionError(\"<urllib3.connection.HTTPSConnection object at 0x715ba8902ab0>: Failed to resolve 'www.sevendays.nl' ([Errno -2] Name or service not known)\"))\n",
      "Data saved to ../resources/hrefs_table.csv\n"
     ]
    }
   ],
   "source": [
    "import os\n",
    "import json\n",
    "import requests\n",
    "from bs4 import BeautifulSoup\n",
    "import pandas as pd\n",
    "from requests.adapters import HTTPAdapter\n",
    "from requests.packages.urllib3.util.retry import Retry\n",
    "\n",
    "# Set up a session with retries and timeout\n",
    "session = requests.Session()\n",
    "retry_strategy = Retry(\n",
    "    total=3,\n",
    "    backoff_factor=0.3,\n",
    "    status_forcelist=[429, 500, 502, 503, 504],\n",
    "    allowed_methods=[\"HEAD\", \"GET\", \"OPTIONS\"],\n",
    ")\n",
    "adapter = HTTPAdapter(max_retries=retry_strategy)\n",
    "session.mount(\"http://\", adapter)\n",
    "session.mount(\"https://\", adapter)\n",
    "REQUEST_TIMEOUT = 10  # seconds\n",
    "\n",
    "# Directory containing JSON files\n",
    "json_dir = \"../resources\"\n",
    "\n",
    "# List to store the extracted data\n",
    "data = []\n",
    "\n",
    "# Iterate through each JSON file in the directory\n",
    "for file_name in os.listdir(json_dir):\n",
    "    if file_name.endswith(\".json\"):\n",
    "        file_path = os.path.join(json_dir, file_name)\n",
    "        try:\n",
    "            with open(file_path, 'r') as json_file:\n",
    "                json_content = json.load(json_file)\n",
    "        except Exception as e:\n",
    "            print(f\"Error loading file {file_path}: {e}\")\n",
    "            continue\n",
    "        \n",
    "        # Use list if JSON contains multiple rows, else try with key 'urls'\n",
    "        if isinstance(json_content, list):\n",
    "            rows = json_content\n",
    "        else:\n",
    "            rows = json_content.get(\"urls\", [])\n",
    "        \n",
    "        # Iterate through each row\n",
    "        for row in rows:\n",
    "            url = row.get(\"url\")\n",
    "            if not url:\n",
    "                continue  # Skip if no URL is provided\n",
    "            \n",
    "            try:\n",
    "                response = session.get(url, timeout=REQUEST_TIMEOUT)\n",
    "                response.raise_for_status()\n",
    "                soup = BeautifulSoup(response.text, 'html.parser')\n",
    "                # Extract all hrefs from the page\n",
    "                for link in soup.find_all('a', href=True):\n",
    "                    href = link['href']\n",
    "                    data.append({\"url\": url, \"href\": href})\n",
    "            except Exception as e:\n",
    "                print(f\"Error processing URL {url}: {e}\")\n",
    "\n",
    "# Create a DataFrame from the collected data with only url and href columns\n",
    "df = pd.DataFrame(data)\n",
    "\n",
    "# Save the DataFrame to a CSV file\n",
    "csv_path = os.path.join(json_dir, \"hrefs_table.csv\")\n",
    "df.to_csv(csv_path, index=False)\n",
    "print(f\"Data saved to {csv_path}\")"
   ]
  },
  {
   "cell_type": "code",
   "execution_count": 6,
   "metadata": {},
   "outputs": [
    {
     "name": "stdout",
     "output_type": "stream",
     "text": [
      "No GPU is available.\n"
     ]
    }
   ],
   "source": [
    "import torch\n",
    "\n",
    "if torch.cuda.is_available():\n",
    "    gpu_name = torch.cuda.get_device_name(0)\n",
    "    print(f\"GPU is available: {gpu_name}\")\n",
    "else:\n",
    "    print(\"No GPU is available.\")"
   ]
  }
 ],
 "metadata": {
  "kernelspec": {
   "display_name": "Python 3",
   "language": "python",
   "name": "python3"
  },
  "language_info": {
   "codemirror_mode": {
    "name": "ipython",
    "version": 3
   },
   "file_extension": ".py",
   "mimetype": "text/x-python",
   "name": "python",
   "nbconvert_exporter": "python",
   "pygments_lexer": "ipython3",
   "version": "3.12.1"
  }
 },
 "nbformat": 4,
 "nbformat_minor": 2
}
